{
 "cells": [
  {
   "cell_type": "code",
   "execution_count": 1,
   "id": "4fae05fa-48d8-4010-8a7b-e4f12422e62b",
   "metadata": {},
   "outputs": [
    {
     "name": "stderr",
     "output_type": "stream",
     "text": [
      "── \u001b[1mAttaching core tidyverse packages\u001b[22m ──────────────────────── tidyverse 2.0.0 ──\n",
      "\u001b[32m✔\u001b[39m \u001b[34mdplyr    \u001b[39m 1.1.3     \u001b[32m✔\u001b[39m \u001b[34mreadr    \u001b[39m 2.1.4\n",
      "\u001b[32m✔\u001b[39m \u001b[34mforcats  \u001b[39m 1.0.0     \u001b[32m✔\u001b[39m \u001b[34mstringr  \u001b[39m 1.5.0\n",
      "\u001b[32m✔\u001b[39m \u001b[34mggplot2  \u001b[39m 3.4.4     \u001b[32m✔\u001b[39m \u001b[34mtibble   \u001b[39m 3.2.1\n",
      "\u001b[32m✔\u001b[39m \u001b[34mlubridate\u001b[39m 1.9.3     \u001b[32m✔\u001b[39m \u001b[34mtidyr    \u001b[39m 1.3.0\n",
      "\u001b[32m✔\u001b[39m \u001b[34mpurrr    \u001b[39m 1.0.2     \n",
      "── \u001b[1mConflicts\u001b[22m ────────────────────────────────────────── tidyverse_conflicts() ──\n",
      "\u001b[31m✖\u001b[39m \u001b[34mdplyr\u001b[39m::\u001b[32mfilter()\u001b[39m masks \u001b[34mstats\u001b[39m::filter()\n",
      "\u001b[31m✖\u001b[39m \u001b[34mdplyr\u001b[39m::\u001b[32mlag()\u001b[39m    masks \u001b[34mstats\u001b[39m::lag()\n",
      "\u001b[36mℹ\u001b[39m Use the conflicted package (\u001b[3m\u001b[34m<http://conflicted.r-lib.org/>\u001b[39m\u001b[23m) to force all conflicts to become errors\n",
      "── \u001b[1mAttaching packages\u001b[22m ────────────────────────────────────── tidymodels 1.1.1 ──\n",
      "\n",
      "\u001b[32m✔\u001b[39m \u001b[34mbroom       \u001b[39m 1.0.5     \u001b[32m✔\u001b[39m \u001b[34mrsample     \u001b[39m 1.2.0\n",
      "\u001b[32m✔\u001b[39m \u001b[34mdials       \u001b[39m 1.2.0     \u001b[32m✔\u001b[39m \u001b[34mtune        \u001b[39m 1.1.2\n",
      "\u001b[32m✔\u001b[39m \u001b[34minfer       \u001b[39m 1.0.5     \u001b[32m✔\u001b[39m \u001b[34mworkflows   \u001b[39m 1.1.3\n",
      "\u001b[32m✔\u001b[39m \u001b[34mmodeldata   \u001b[39m 1.2.0     \u001b[32m✔\u001b[39m \u001b[34mworkflowsets\u001b[39m 1.0.1\n",
      "\u001b[32m✔\u001b[39m \u001b[34mparsnip     \u001b[39m 1.1.1     \u001b[32m✔\u001b[39m \u001b[34myardstick   \u001b[39m 1.2.0\n",
      "\u001b[32m✔\u001b[39m \u001b[34mrecipes     \u001b[39m 1.0.8     \n",
      "\n",
      "── \u001b[1mConflicts\u001b[22m ───────────────────────────────────────── tidymodels_conflicts() ──\n",
      "\u001b[31m✖\u001b[39m \u001b[34mscales\u001b[39m::\u001b[32mdiscard()\u001b[39m masks \u001b[34mpurrr\u001b[39m::discard()\n",
      "\u001b[31m✖\u001b[39m \u001b[34mdplyr\u001b[39m::\u001b[32mfilter()\u001b[39m   masks \u001b[34mstats\u001b[39m::filter()\n",
      "\u001b[31m✖\u001b[39m \u001b[34mrecipes\u001b[39m::\u001b[32mfixed()\u001b[39m  masks \u001b[34mstringr\u001b[39m::fixed()\n",
      "\u001b[31m✖\u001b[39m \u001b[34mdplyr\u001b[39m::\u001b[32mlag()\u001b[39m      masks \u001b[34mstats\u001b[39m::lag()\n",
      "\u001b[31m✖\u001b[39m \u001b[34myardstick\u001b[39m::\u001b[32mspec()\u001b[39m masks \u001b[34mreadr\u001b[39m::spec()\n",
      "\u001b[31m✖\u001b[39m \u001b[34mrecipes\u001b[39m::\u001b[32mstep()\u001b[39m   masks \u001b[34mstats\u001b[39m::step()\n",
      "\u001b[34m•\u001b[39m Use \u001b[32mtidymodels_prefer()\u001b[39m to resolve common conflicts.\n",
      "\n",
      "\n",
      "Attaching package: ‘rvest’\n",
      "\n",
      "\n",
      "The following object is masked from ‘package:readr’:\n",
      "\n",
      "    guess_encoding\n",
      "\n",
      "\n"
     ]
    }
   ],
   "source": [
    "library(tidyverse)\n",
    "library(repr)\n",
    "library(tidymodels)\n",
    "library(rvest)\n",
    "library(readr)\n",
    "options(repr.matrix.max.rows = 6)"
   ]
  },
  {
   "cell_type": "code",
   "execution_count": 2,
   "id": "742fb300-d244-479d-9931-c82979888c92",
   "metadata": {},
   "outputs": [
    {
     "name": "stderr",
     "output_type": "stream",
     "text": [
      "\u001b[1mRows: \u001b[22m\u001b[34m7806\u001b[39m \u001b[1mColumns: \u001b[22m\u001b[34m8\u001b[39m\n",
      "\u001b[36m──\u001b[39m \u001b[1mColumn specification\u001b[22m \u001b[36m────────────────────────────────────────────────────────\u001b[39m\n",
      "\u001b[1mDelimiter:\u001b[22m \",\"\n",
      "\u001b[31mchr\u001b[39m  (3): Diet_type, Recipe_name, Cuisine_type\n",
      "\u001b[32mdbl\u001b[39m  (3): Protein(g), Carbs(g), Fat(g)\n",
      "\u001b[34mdate\u001b[39m (1): Extraction_day\n",
      "\u001b[34mtime\u001b[39m (1): Extraction_time\n",
      "\n",
      "\u001b[36mℹ\u001b[39m Use `spec()` to retrieve the full column specification for this data.\n",
      "\u001b[36mℹ\u001b[39m Specify the column types or set `show_col_types = FALSE` to quiet this message.\n"
     ]
    },
    {
     "data": {
      "text/html": [
       "<table class=\"dataframe\">\n",
       "<caption>A spec_tbl_df: 7806 × 8</caption>\n",
       "<thead>\n",
       "\t<tr><th scope=col>Diet_type</th><th scope=col>Recipe_name</th><th scope=col>Cuisine_type</th><th scope=col>Protein(g)</th><th scope=col>Carbs(g)</th><th scope=col>Fat(g)</th><th scope=col>Extraction_day</th><th scope=col>Extraction_time</th></tr>\n",
       "\t<tr><th scope=col>&lt;chr&gt;</th><th scope=col>&lt;chr&gt;</th><th scope=col>&lt;chr&gt;</th><th scope=col>&lt;dbl&gt;</th><th scope=col>&lt;dbl&gt;</th><th scope=col>&lt;dbl&gt;</th><th scope=col>&lt;date&gt;</th><th scope=col>&lt;time&gt;</th></tr>\n",
       "</thead>\n",
       "<tbody>\n",
       "\t<tr><td>paleo</td><td>Bone Broth From 'Nom Nom Paleo'                                 </td><td>american        </td><td>  5.22</td><td>  1.29</td><td>  3.20</td><td>2022-10-16</td><td>17:20:09</td></tr>\n",
       "\t<tr><td>paleo</td><td>Paleo Effect Asian-Glazed Pork Sides, A Sweet &amp; Crispy Appetizer</td><td>south east asian</td><td>181.55</td><td> 28.62</td><td>146.14</td><td>2022-10-16</td><td>17:20:09</td></tr>\n",
       "\t<tr><td>paleo</td><td>Paleo Pumpkin Pie                                               </td><td>american        </td><td> 30.91</td><td>302.59</td><td> 96.76</td><td>2022-10-16</td><td>17:20:09</td></tr>\n",
       "\t<tr><td>⋮</td><td>⋮</td><td>⋮</td><td>⋮</td><td>⋮</td><td>⋮</td><td>⋮</td><td>⋮</td></tr>\n",
       "\t<tr><td>dash</td><td>Luis Buñuel Dry Martini             </td><td>world   </td><td>  0.01</td><td>  0.39</td><td>  0.00</td><td>2022-10-16</td><td>20:40:44</td></tr>\n",
       "\t<tr><td>dash</td><td>Cornflake Semi-Fried Chicken Tenders</td><td>american</td><td>155.38</td><td>239.88</td><td>260.84</td><td>2022-10-16</td><td>20:40:44</td></tr>\n",
       "\t<tr><td>dash</td><td>Emeril's Classic Manhattan          </td><td>american</td><td>  0.02</td><td>  0.83</td><td>  0.00</td><td>2022-10-16</td><td>20:40:44</td></tr>\n",
       "</tbody>\n",
       "</table>\n"
      ],
      "text/latex": [
       "A spec\\_tbl\\_df: 7806 × 8\n",
       "\\begin{tabular}{llllllll}\n",
       " Diet\\_type & Recipe\\_name & Cuisine\\_type & Protein(g) & Carbs(g) & Fat(g) & Extraction\\_day & Extraction\\_time\\\\\n",
       " <chr> & <chr> & <chr> & <dbl> & <dbl> & <dbl> & <date> & <time>\\\\\n",
       "\\hline\n",
       "\t paleo & Bone Broth From 'Nom Nom Paleo'                                  & american         &   5.22 &   1.29 &   3.20 & 2022-10-16 & 17:20:09\\\\\n",
       "\t paleo & Paleo Effect Asian-Glazed Pork Sides, A Sweet \\& Crispy Appetizer & south east asian & 181.55 &  28.62 & 146.14 & 2022-10-16 & 17:20:09\\\\\n",
       "\t paleo & Paleo Pumpkin Pie                                                & american         &  30.91 & 302.59 &  96.76 & 2022-10-16 & 17:20:09\\\\\n",
       "\t ⋮ & ⋮ & ⋮ & ⋮ & ⋮ & ⋮ & ⋮ & ⋮\\\\\n",
       "\t dash & Luis Buñuel Dry Martini              & world    &   0.01 &   0.39 &   0.00 & 2022-10-16 & 20:40:44\\\\\n",
       "\t dash & Cornflake Semi-Fried Chicken Tenders & american & 155.38 & 239.88 & 260.84 & 2022-10-16 & 20:40:44\\\\\n",
       "\t dash & Emeril's Classic Manhattan           & american &   0.02 &   0.83 &   0.00 & 2022-10-16 & 20:40:44\\\\\n",
       "\\end{tabular}\n"
      ],
      "text/markdown": [
       "\n",
       "A spec_tbl_df: 7806 × 8\n",
       "\n",
       "| Diet_type &lt;chr&gt; | Recipe_name &lt;chr&gt; | Cuisine_type &lt;chr&gt; | Protein(g) &lt;dbl&gt; | Carbs(g) &lt;dbl&gt; | Fat(g) &lt;dbl&gt; | Extraction_day &lt;date&gt; | Extraction_time &lt;time&gt; |\n",
       "|---|---|---|---|---|---|---|---|\n",
       "| paleo | Bone Broth From 'Nom Nom Paleo'                                  | american         |   5.22 |   1.29 |   3.20 | 2022-10-16 | 17:20:09 |\n",
       "| paleo | Paleo Effect Asian-Glazed Pork Sides, A Sweet &amp; Crispy Appetizer | south east asian | 181.55 |  28.62 | 146.14 | 2022-10-16 | 17:20:09 |\n",
       "| paleo | Paleo Pumpkin Pie                                                | american         |  30.91 | 302.59 |  96.76 | 2022-10-16 | 17:20:09 |\n",
       "| ⋮ | ⋮ | ⋮ | ⋮ | ⋮ | ⋮ | ⋮ | ⋮ |\n",
       "| dash | Luis Buñuel Dry Martini              | world    |   0.01 |   0.39 |   0.00 | 2022-10-16 | 20:40:44 |\n",
       "| dash | Cornflake Semi-Fried Chicken Tenders | american | 155.38 | 239.88 | 260.84 | 2022-10-16 | 20:40:44 |\n",
       "| dash | Emeril's Classic Manhattan           | american |   0.02 |   0.83 |   0.00 | 2022-10-16 | 20:40:44 |\n",
       "\n"
      ],
      "text/plain": [
       "     Diet_type Recipe_name                                                     \n",
       "1    paleo     Bone Broth From 'Nom Nom Paleo'                                 \n",
       "2    paleo     Paleo Effect Asian-Glazed Pork Sides, A Sweet & Crispy Appetizer\n",
       "3    paleo     Paleo Pumpkin Pie                                               \n",
       "⋮    ⋮         ⋮                                                               \n",
       "7804 dash      Luis Buñuel Dry Martini                                         \n",
       "7805 dash      Cornflake Semi-Fried Chicken Tenders                            \n",
       "7806 dash      Emeril's Classic Manhattan                                      \n",
       "     Cuisine_type     Protein(g) Carbs(g) Fat(g) Extraction_day Extraction_time\n",
       "1    american           5.22       1.29     3.20 2022-10-16     17:20:09       \n",
       "2    south east asian 181.55      28.62   146.14 2022-10-16     17:20:09       \n",
       "3    american          30.91     302.59    96.76 2022-10-16     17:20:09       \n",
       "⋮    ⋮                ⋮          ⋮        ⋮      ⋮              ⋮              \n",
       "7804 world              0.01       0.39     0.00 2022-10-16     20:40:44       \n",
       "7805 american         155.38     239.88   260.84 2022-10-16     20:40:44       \n",
       "7806 american           0.02       0.83     0.00 2022-10-16     20:40:44       "
      ]
     },
     "metadata": {},
     "output_type": "display_data"
    }
   ],
   "source": [
    "diets <- read_csv(\"https://raw.githubusercontent.com/mwang516/Foodies/main/All_Diets.csv\")\n",
    "\n",
    "diets"
   ]
  },
  {
   "cell_type": "code",
   "execution_count": null,
   "id": "9fb59ba4-d099-42ac-bae5-f272725f5213",
   "metadata": {},
   "outputs": [],
   "source": []
  }
 ],
 "metadata": {
  "kernelspec": {
   "display_name": "R",
   "language": "R",
   "name": "ir"
  },
  "language_info": {
   "codemirror_mode": "r",
   "file_extension": ".r",
   "mimetype": "text/x-r-source",
   "name": "R",
   "pygments_lexer": "r",
   "version": "4.3.1"
  }
 },
 "nbformat": 4,
 "nbformat_minor": 5
}
